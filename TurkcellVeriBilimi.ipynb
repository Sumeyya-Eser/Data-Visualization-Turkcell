{
  "nbformat": 4,
  "nbformat_minor": 0,
  "metadata": {
    "colab": {
      "name": "TurkcellVeriBilimi.ipynb",
      "provenance": []
    },
    "kernelspec": {
      "name": "python3",
      "display_name": "Python 3"
    }
  },
  "cells": [
    {
      "cell_type": "code",
      "metadata": {
        "id": "YYP54AmOe7Wh"
      },
      "source": [
        "import seaborn as sns\r\n",
        "planets=sns.load_dataset(\"planets\")\r\n",
        "df=planets.copy()\r\n"
      ],
      "execution_count": 17,
      "outputs": []
    },
    {
      "cell_type": "code",
      "metadata": {
        "colab": {
          "base_uri": "https://localhost:8080/",
          "height": 204
        },
        "id": "2TPv5b_6fSSB",
        "outputId": "76566c68-aac1-4359-d5fd-2d5812681fdc"
      },
      "source": [
        "df.head()"
      ],
      "execution_count": null,
      "outputs": [
        {
          "output_type": "execute_result",
          "data": {
            "text/html": [
              "<div>\n",
              "<style scoped>\n",
              "    .dataframe tbody tr th:only-of-type {\n",
              "        vertical-align: middle;\n",
              "    }\n",
              "\n",
              "    .dataframe tbody tr th {\n",
              "        vertical-align: top;\n",
              "    }\n",
              "\n",
              "    .dataframe thead th {\n",
              "        text-align: right;\n",
              "    }\n",
              "</style>\n",
              "<table border=\"1\" class=\"dataframe\">\n",
              "  <thead>\n",
              "    <tr style=\"text-align: right;\">\n",
              "      <th></th>\n",
              "      <th>method</th>\n",
              "      <th>number</th>\n",
              "      <th>orbital_period</th>\n",
              "      <th>mass</th>\n",
              "      <th>distance</th>\n",
              "      <th>year</th>\n",
              "    </tr>\n",
              "  </thead>\n",
              "  <tbody>\n",
              "    <tr>\n",
              "      <th>0</th>\n",
              "      <td>Radial Velocity</td>\n",
              "      <td>1</td>\n",
              "      <td>269.300</td>\n",
              "      <td>7.10</td>\n",
              "      <td>77.40</td>\n",
              "      <td>2006</td>\n",
              "    </tr>\n",
              "    <tr>\n",
              "      <th>1</th>\n",
              "      <td>Radial Velocity</td>\n",
              "      <td>1</td>\n",
              "      <td>874.774</td>\n",
              "      <td>2.21</td>\n",
              "      <td>56.95</td>\n",
              "      <td>2008</td>\n",
              "    </tr>\n",
              "    <tr>\n",
              "      <th>2</th>\n",
              "      <td>Radial Velocity</td>\n",
              "      <td>1</td>\n",
              "      <td>763.000</td>\n",
              "      <td>2.60</td>\n",
              "      <td>19.84</td>\n",
              "      <td>2011</td>\n",
              "    </tr>\n",
              "    <tr>\n",
              "      <th>3</th>\n",
              "      <td>Radial Velocity</td>\n",
              "      <td>1</td>\n",
              "      <td>326.030</td>\n",
              "      <td>19.40</td>\n",
              "      <td>110.62</td>\n",
              "      <td>2007</td>\n",
              "    </tr>\n",
              "    <tr>\n",
              "      <th>4</th>\n",
              "      <td>Radial Velocity</td>\n",
              "      <td>1</td>\n",
              "      <td>516.220</td>\n",
              "      <td>10.50</td>\n",
              "      <td>119.47</td>\n",
              "      <td>2009</td>\n",
              "    </tr>\n",
              "  </tbody>\n",
              "</table>\n",
              "</div>"
            ],
            "text/plain": [
              "            method  number  orbital_period   mass  distance  year\n",
              "0  Radial Velocity       1         269.300   7.10     77.40  2006\n",
              "1  Radial Velocity       1         874.774   2.21     56.95  2008\n",
              "2  Radial Velocity       1         763.000   2.60     19.84  2011\n",
              "3  Radial Velocity       1         326.030  19.40    110.62  2007\n",
              "4  Radial Velocity       1         516.220  10.50    119.47  2009"
            ]
          },
          "metadata": {
            "tags": []
          },
          "execution_count": 2
        }
      ]
    },
    {
      "cell_type": "code",
      "metadata": {
        "colab": {
          "base_uri": "https://localhost:8080/"
        },
        "id": "El2XXrJqfbry",
        "outputId": "9f7287d7-9fd6-414b-e03b-d985b8008ddc"
      },
      "source": [
        "df.shape"
      ],
      "execution_count": null,
      "outputs": [
        {
          "output_type": "execute_result",
          "data": {
            "text/plain": [
              "(1035, 6)"
            ]
          },
          "metadata": {
            "tags": []
          },
          "execution_count": 4
        }
      ]
    },
    {
      "cell_type": "code",
      "metadata": {
        "colab": {
          "base_uri": "https://localhost:8080/"
        },
        "id": "-hk6DoRrfeH0",
        "outputId": "e08f63fa-4956-405f-8418-c4e99fb1d02e"
      },
      "source": [
        "df.columns"
      ],
      "execution_count": null,
      "outputs": [
        {
          "output_type": "execute_result",
          "data": {
            "text/plain": [
              "Index(['method', 'number', 'orbital_period', 'mass', 'distance', 'year'], dtype='object')"
            ]
          },
          "metadata": {
            "tags": []
          },
          "execution_count": 5
        }
      ]
    },
    {
      "cell_type": "code",
      "metadata": {
        "colab": {
          "base_uri": "https://localhost:8080/",
          "height": 297
        },
        "id": "3QAwOnUkfi43",
        "outputId": "ed3df917-10f3-4119-a3d2-446f8020fac5"
      },
      "source": [
        "df.describe()"
      ],
      "execution_count": null,
      "outputs": [
        {
          "output_type": "execute_result",
          "data": {
            "text/html": [
              "<div>\n",
              "<style scoped>\n",
              "    .dataframe tbody tr th:only-of-type {\n",
              "        vertical-align: middle;\n",
              "    }\n",
              "\n",
              "    .dataframe tbody tr th {\n",
              "        vertical-align: top;\n",
              "    }\n",
              "\n",
              "    .dataframe thead th {\n",
              "        text-align: right;\n",
              "    }\n",
              "</style>\n",
              "<table border=\"1\" class=\"dataframe\">\n",
              "  <thead>\n",
              "    <tr style=\"text-align: right;\">\n",
              "      <th></th>\n",
              "      <th>number</th>\n",
              "      <th>orbital_period</th>\n",
              "      <th>mass</th>\n",
              "      <th>distance</th>\n",
              "      <th>year</th>\n",
              "    </tr>\n",
              "  </thead>\n",
              "  <tbody>\n",
              "    <tr>\n",
              "      <th>count</th>\n",
              "      <td>1035.000000</td>\n",
              "      <td>992.000000</td>\n",
              "      <td>513.000000</td>\n",
              "      <td>808.000000</td>\n",
              "      <td>1035.000000</td>\n",
              "    </tr>\n",
              "    <tr>\n",
              "      <th>mean</th>\n",
              "      <td>1.785507</td>\n",
              "      <td>2002.917596</td>\n",
              "      <td>2.638161</td>\n",
              "      <td>264.069282</td>\n",
              "      <td>2009.070531</td>\n",
              "    </tr>\n",
              "    <tr>\n",
              "      <th>std</th>\n",
              "      <td>1.240976</td>\n",
              "      <td>26014.728304</td>\n",
              "      <td>3.818617</td>\n",
              "      <td>733.116493</td>\n",
              "      <td>3.972567</td>\n",
              "    </tr>\n",
              "    <tr>\n",
              "      <th>min</th>\n",
              "      <td>1.000000</td>\n",
              "      <td>0.090706</td>\n",
              "      <td>0.003600</td>\n",
              "      <td>1.350000</td>\n",
              "      <td>1989.000000</td>\n",
              "    </tr>\n",
              "    <tr>\n",
              "      <th>25%</th>\n",
              "      <td>1.000000</td>\n",
              "      <td>5.442540</td>\n",
              "      <td>0.229000</td>\n",
              "      <td>32.560000</td>\n",
              "      <td>2007.000000</td>\n",
              "    </tr>\n",
              "    <tr>\n",
              "      <th>50%</th>\n",
              "      <td>1.000000</td>\n",
              "      <td>39.979500</td>\n",
              "      <td>1.260000</td>\n",
              "      <td>55.250000</td>\n",
              "      <td>2010.000000</td>\n",
              "    </tr>\n",
              "    <tr>\n",
              "      <th>75%</th>\n",
              "      <td>2.000000</td>\n",
              "      <td>526.005000</td>\n",
              "      <td>3.040000</td>\n",
              "      <td>178.500000</td>\n",
              "      <td>2012.000000</td>\n",
              "    </tr>\n",
              "    <tr>\n",
              "      <th>max</th>\n",
              "      <td>7.000000</td>\n",
              "      <td>730000.000000</td>\n",
              "      <td>25.000000</td>\n",
              "      <td>8500.000000</td>\n",
              "      <td>2014.000000</td>\n",
              "    </tr>\n",
              "  </tbody>\n",
              "</table>\n",
              "</div>"
            ],
            "text/plain": [
              "            number  orbital_period        mass     distance         year\n",
              "count  1035.000000      992.000000  513.000000   808.000000  1035.000000\n",
              "mean      1.785507     2002.917596    2.638161   264.069282  2009.070531\n",
              "std       1.240976    26014.728304    3.818617   733.116493     3.972567\n",
              "min       1.000000        0.090706    0.003600     1.350000  1989.000000\n",
              "25%       1.000000        5.442540    0.229000    32.560000  2007.000000\n",
              "50%       1.000000       39.979500    1.260000    55.250000  2010.000000\n",
              "75%       2.000000      526.005000    3.040000   178.500000  2012.000000\n",
              "max       7.000000   730000.000000   25.000000  8500.000000  2014.000000"
            ]
          },
          "metadata": {
            "tags": []
          },
          "execution_count": 6
        }
      ]
    },
    {
      "cell_type": "code",
      "metadata": {
        "colab": {
          "base_uri": "https://localhost:8080/",
          "height": 204
        },
        "id": "sLgSciTdfoLL",
        "outputId": "34c84634-d6d6-41a1-b162-0ea29959970b"
      },
      "source": [
        "df.describe().T"
      ],
      "execution_count": null,
      "outputs": [
        {
          "output_type": "execute_result",
          "data": {
            "text/html": [
              "<div>\n",
              "<style scoped>\n",
              "    .dataframe tbody tr th:only-of-type {\n",
              "        vertical-align: middle;\n",
              "    }\n",
              "\n",
              "    .dataframe tbody tr th {\n",
              "        vertical-align: top;\n",
              "    }\n",
              "\n",
              "    .dataframe thead th {\n",
              "        text-align: right;\n",
              "    }\n",
              "</style>\n",
              "<table border=\"1\" class=\"dataframe\">\n",
              "  <thead>\n",
              "    <tr style=\"text-align: right;\">\n",
              "      <th></th>\n",
              "      <th>count</th>\n",
              "      <th>mean</th>\n",
              "      <th>std</th>\n",
              "      <th>min</th>\n",
              "      <th>25%</th>\n",
              "      <th>50%</th>\n",
              "      <th>75%</th>\n",
              "      <th>max</th>\n",
              "    </tr>\n",
              "  </thead>\n",
              "  <tbody>\n",
              "    <tr>\n",
              "      <th>number</th>\n",
              "      <td>1035.0</td>\n",
              "      <td>1.785507</td>\n",
              "      <td>1.240976</td>\n",
              "      <td>1.000000</td>\n",
              "      <td>1.00000</td>\n",
              "      <td>1.0000</td>\n",
              "      <td>2.000</td>\n",
              "      <td>7.0</td>\n",
              "    </tr>\n",
              "    <tr>\n",
              "      <th>orbital_period</th>\n",
              "      <td>992.0</td>\n",
              "      <td>2002.917596</td>\n",
              "      <td>26014.728304</td>\n",
              "      <td>0.090706</td>\n",
              "      <td>5.44254</td>\n",
              "      <td>39.9795</td>\n",
              "      <td>526.005</td>\n",
              "      <td>730000.0</td>\n",
              "    </tr>\n",
              "    <tr>\n",
              "      <th>mass</th>\n",
              "      <td>513.0</td>\n",
              "      <td>2.638161</td>\n",
              "      <td>3.818617</td>\n",
              "      <td>0.003600</td>\n",
              "      <td>0.22900</td>\n",
              "      <td>1.2600</td>\n",
              "      <td>3.040</td>\n",
              "      <td>25.0</td>\n",
              "    </tr>\n",
              "    <tr>\n",
              "      <th>distance</th>\n",
              "      <td>808.0</td>\n",
              "      <td>264.069282</td>\n",
              "      <td>733.116493</td>\n",
              "      <td>1.350000</td>\n",
              "      <td>32.56000</td>\n",
              "      <td>55.2500</td>\n",
              "      <td>178.500</td>\n",
              "      <td>8500.0</td>\n",
              "    </tr>\n",
              "    <tr>\n",
              "      <th>year</th>\n",
              "      <td>1035.0</td>\n",
              "      <td>2009.070531</td>\n",
              "      <td>3.972567</td>\n",
              "      <td>1989.000000</td>\n",
              "      <td>2007.00000</td>\n",
              "      <td>2010.0000</td>\n",
              "      <td>2012.000</td>\n",
              "      <td>2014.0</td>\n",
              "    </tr>\n",
              "  </tbody>\n",
              "</table>\n",
              "</div>"
            ],
            "text/plain": [
              "                 count         mean  ...       75%       max\n",
              "number          1035.0     1.785507  ...     2.000       7.0\n",
              "orbital_period   992.0  2002.917596  ...   526.005  730000.0\n",
              "mass             513.0     2.638161  ...     3.040      25.0\n",
              "distance         808.0   264.069282  ...   178.500    8500.0\n",
              "year            1035.0  2009.070531  ...  2012.000    2014.0\n",
              "\n",
              "[5 rows x 8 columns]"
            ]
          },
          "metadata": {
            "tags": []
          },
          "execution_count": 7
        }
      ]
    },
    {
      "cell_type": "code",
      "metadata": {
        "colab": {
          "base_uri": "https://localhost:8080/"
        },
        "id": "NKP1GePSfsNB",
        "outputId": "577b71a2-39c4-48a8-a79f-81ae4af6538c"
      },
      "source": [
        "df.isna"
      ],
      "execution_count": null,
      "outputs": [
        {
          "output_type": "execute_result",
          "data": {
            "text/plain": [
              "<bound method DataFrame.isna of                method  number  orbital_period   mass  distance  year\n",
              "0     Radial Velocity       1      269.300000   7.10     77.40  2006\n",
              "1     Radial Velocity       1      874.774000   2.21     56.95  2008\n",
              "2     Radial Velocity       1      763.000000   2.60     19.84  2011\n",
              "3     Radial Velocity       1      326.030000  19.40    110.62  2007\n",
              "4     Radial Velocity       1      516.220000  10.50    119.47  2009\n",
              "...               ...     ...             ...    ...       ...   ...\n",
              "1030          Transit       1        3.941507    NaN    172.00  2006\n",
              "1031          Transit       1        2.615864    NaN    148.00  2007\n",
              "1032          Transit       1        3.191524    NaN    174.00  2007\n",
              "1033          Transit       1        4.125083    NaN    293.00  2008\n",
              "1034          Transit       1        4.187757    NaN    260.00  2008\n",
              "\n",
              "[1035 rows x 6 columns]>"
            ]
          },
          "metadata": {
            "tags": []
          },
          "execution_count": 8
        }
      ]
    },
    {
      "cell_type": "code",
      "metadata": {
        "colab": {
          "base_uri": "https://localhost:8080/"
        },
        "id": "U5Yfz3wJi-0F",
        "outputId": "12ba2722-f70e-413e-93ff-28d61ed51d3a"
      },
      "source": [
        "df.isnull().values.any()"
      ],
      "execution_count": null,
      "outputs": [
        {
          "output_type": "execute_result",
          "data": {
            "text/plain": [
              "True"
            ]
          },
          "metadata": {
            "tags": []
          },
          "execution_count": 9
        }
      ]
    },
    {
      "cell_type": "code",
      "metadata": {
        "colab": {
          "base_uri": "https://localhost:8080/"
        },
        "id": "tBrAIo9PjF8y",
        "outputId": "e21b8c08-a57a-4319-d18a-a5952e969f18"
      },
      "source": [
        "df.isnull().sum()"
      ],
      "execution_count": null,
      "outputs": [
        {
          "output_type": "execute_result",
          "data": {
            "text/plain": [
              "method              0\n",
              "number              0\n",
              "orbital_period     43\n",
              "mass              522\n",
              "distance          227\n",
              "year                0\n",
              "dtype: int64"
            ]
          },
          "metadata": {
            "tags": []
          },
          "execution_count": 10
        }
      ]
    },
    {
      "cell_type": "code",
      "metadata": {
        "colab": {
          "base_uri": "https://localhost:8080/"
        },
        "id": "rQEBkcvBjVpp",
        "outputId": "095cd776-e8e5-4f08-8472-558aed9c55a3"
      },
      "source": [
        "#df.[\"değişken_ismi\"].fillna(0,inplace=True)\r\n",
        "\r\n",
        "df[\"mass\"].fillna(df.mass.mean(),inplace=True)\r\n",
        "\r\n",
        "df.isnull().sum()"
      ],
      "execution_count": 13,
      "outputs": [
        {
          "output_type": "execute_result",
          "data": {
            "text/plain": [
              "method              0\n",
              "number              0\n",
              "orbital_period     43\n",
              "mass                0\n",
              "distance          227\n",
              "year                0\n",
              "dtype: int64"
            ]
          },
          "metadata": {
            "tags": []
          },
          "execution_count": 13
        }
      ]
    },
    {
      "cell_type": "code",
      "metadata": {
        "colab": {
          "base_uri": "https://localhost:8080/"
        },
        "id": "J--hvsY_kc6r",
        "outputId": "f07eb663-28ee-4733-ece1-31a86ec57150"
      },
      "source": [
        "df.fillna(df.mean(),inplace=True)\r\n",
        "df.isnull().sum()"
      ],
      "execution_count": 10,
      "outputs": [
        {
          "output_type": "execute_result",
          "data": {
            "text/plain": [
              "method            0\n",
              "number            0\n",
              "orbital_period    0\n",
              "mass              0\n",
              "distance          0\n",
              "year              0\n",
              "dtype: int64"
            ]
          },
          "metadata": {
            "tags": []
          },
          "execution_count": 10
        }
      ]
    },
    {
      "cell_type": "code",
      "metadata": {
        "id": "desZ_epvC-SP"
      },
      "source": [
        "df.mass.fillna(df.mass.mean(), inplace = True) \r\n"
      ],
      "execution_count": 18,
      "outputs": []
    },
    {
      "cell_type": "code",
      "metadata": {
        "colab": {
          "base_uri": "https://localhost:8080/"
        },
        "id": "TEt86tQoDd4x",
        "outputId": "f5d4f47c-d360-4f62-e501-09ce583a5735"
      },
      "source": [
        "df.isnull().sum()"
      ],
      "execution_count": 19,
      "outputs": [
        {
          "output_type": "execute_result",
          "data": {
            "text/plain": [
              "method              0\n",
              "number              0\n",
              "orbital_period     43\n",
              "mass                0\n",
              "distance          227\n",
              "year                0\n",
              "dtype: int64"
            ]
          },
          "metadata": {
            "tags": []
          },
          "execution_count": 19
        }
      ]
    },
    {
      "cell_type": "code",
      "metadata": {
        "colab": {
          "base_uri": "https://localhost:8080/",
          "height": 204
        },
        "id": "7HLnz-3Ck9pM",
        "outputId": "932b6c46-01f0-4030-bf20-1135c81a2988"
      },
      "source": [
        "df.head()"
      ],
      "execution_count": null,
      "outputs": [
        {
          "output_type": "execute_result",
          "data": {
            "text/html": [
              "<div>\n",
              "<style scoped>\n",
              "    .dataframe tbody tr th:only-of-type {\n",
              "        vertical-align: middle;\n",
              "    }\n",
              "\n",
              "    .dataframe tbody tr th {\n",
              "        vertical-align: top;\n",
              "    }\n",
              "\n",
              "    .dataframe thead th {\n",
              "        text-align: right;\n",
              "    }\n",
              "</style>\n",
              "<table border=\"1\" class=\"dataframe\">\n",
              "  <thead>\n",
              "    <tr style=\"text-align: right;\">\n",
              "      <th></th>\n",
              "      <th>method</th>\n",
              "      <th>number</th>\n",
              "      <th>orbital_period</th>\n",
              "      <th>mass</th>\n",
              "      <th>distance</th>\n",
              "      <th>year</th>\n",
              "    </tr>\n",
              "  </thead>\n",
              "  <tbody>\n",
              "    <tr>\n",
              "      <th>0</th>\n",
              "      <td>Radial Velocity</td>\n",
              "      <td>1</td>\n",
              "      <td>269.300</td>\n",
              "      <td>7.10</td>\n",
              "      <td>77.40</td>\n",
              "      <td>2006</td>\n",
              "    </tr>\n",
              "    <tr>\n",
              "      <th>1</th>\n",
              "      <td>Radial Velocity</td>\n",
              "      <td>1</td>\n",
              "      <td>874.774</td>\n",
              "      <td>2.21</td>\n",
              "      <td>56.95</td>\n",
              "      <td>2008</td>\n",
              "    </tr>\n",
              "    <tr>\n",
              "      <th>2</th>\n",
              "      <td>Radial Velocity</td>\n",
              "      <td>1</td>\n",
              "      <td>763.000</td>\n",
              "      <td>2.60</td>\n",
              "      <td>19.84</td>\n",
              "      <td>2011</td>\n",
              "    </tr>\n",
              "    <tr>\n",
              "      <th>3</th>\n",
              "      <td>Radial Velocity</td>\n",
              "      <td>1</td>\n",
              "      <td>326.030</td>\n",
              "      <td>19.40</td>\n",
              "      <td>110.62</td>\n",
              "      <td>2007</td>\n",
              "    </tr>\n",
              "    <tr>\n",
              "      <th>4</th>\n",
              "      <td>Radial Velocity</td>\n",
              "      <td>1</td>\n",
              "      <td>516.220</td>\n",
              "      <td>10.50</td>\n",
              "      <td>119.47</td>\n",
              "      <td>2009</td>\n",
              "    </tr>\n",
              "  </tbody>\n",
              "</table>\n",
              "</div>"
            ],
            "text/plain": [
              "            method  number  orbital_period   mass  distance  year\n",
              "0  Radial Velocity       1         269.300   7.10     77.40  2006\n",
              "1  Radial Velocity       1         874.774   2.21     56.95  2008\n",
              "2  Radial Velocity       1         763.000   2.60     19.84  2011\n",
              "3  Radial Velocity       1         326.030  19.40    110.62  2007\n",
              "4  Radial Velocity       1         516.220  10.50    119.47  2009"
            ]
          },
          "metadata": {
            "tags": []
          },
          "execution_count": 18
        }
      ]
    },
    {
      "cell_type": "markdown",
      "metadata": {
        "id": "JMueIOtOUvCm"
      },
      "source": [
        "Kategorik Değişkenler"
      ]
    },
    {
      "cell_type": "code",
      "metadata": {
        "id": "1OfUa9zvlazL"
      },
      "source": [
        "kat_df=df.select_dtypes(include=[\"object\"]) #dataframe içinden istediğimiz tipteki verileri çekmek için\r\n"
      ],
      "execution_count": null,
      "outputs": []
    },
    {
      "cell_type": "code",
      "metadata": {
        "colab": {
          "base_uri": "https://localhost:8080/",
          "height": 204
        },
        "id": "0rwPu2uRVJdT",
        "outputId": "e33d1c4b-831b-4b1c-a2a9-8b061975decc"
      },
      "source": [
        "kat_df.head()"
      ],
      "execution_count": null,
      "outputs": [
        {
          "output_type": "execute_result",
          "data": {
            "text/html": [
              "<div>\n",
              "<style scoped>\n",
              "    .dataframe tbody tr th:only-of-type {\n",
              "        vertical-align: middle;\n",
              "    }\n",
              "\n",
              "    .dataframe tbody tr th {\n",
              "        vertical-align: top;\n",
              "    }\n",
              "\n",
              "    .dataframe thead th {\n",
              "        text-align: right;\n",
              "    }\n",
              "</style>\n",
              "<table border=\"1\" class=\"dataframe\">\n",
              "  <thead>\n",
              "    <tr style=\"text-align: right;\">\n",
              "      <th></th>\n",
              "      <th>method</th>\n",
              "    </tr>\n",
              "  </thead>\n",
              "  <tbody>\n",
              "    <tr>\n",
              "      <th>0</th>\n",
              "      <td>Radial Velocity</td>\n",
              "    </tr>\n",
              "    <tr>\n",
              "      <th>1</th>\n",
              "      <td>Radial Velocity</td>\n",
              "    </tr>\n",
              "    <tr>\n",
              "      <th>2</th>\n",
              "      <td>Radial Velocity</td>\n",
              "    </tr>\n",
              "    <tr>\n",
              "      <th>3</th>\n",
              "      <td>Radial Velocity</td>\n",
              "    </tr>\n",
              "    <tr>\n",
              "      <th>4</th>\n",
              "      <td>Radial Velocity</td>\n",
              "    </tr>\n",
              "  </tbody>\n",
              "</table>\n",
              "</div>"
            ],
            "text/plain": [
              "            method\n",
              "0  Radial Velocity\n",
              "1  Radial Velocity\n",
              "2  Radial Velocity\n",
              "3  Radial Velocity\n",
              "4  Radial Velocity"
            ]
          },
          "metadata": {
            "tags": []
          },
          "execution_count": 7
        }
      ]
    },
    {
      "cell_type": "markdown",
      "metadata": {
        "id": "npMUEDmLV17l"
      },
      "source": [
        "Kategorik Değişkenlerin sınıfına ve sayısına erişmek\r\n"
      ]
    },
    {
      "cell_type": "code",
      "metadata": {
        "colab": {
          "base_uri": "https://localhost:8080/"
        },
        "id": "dXLupqYsVMA6",
        "outputId": "eb8dda9e-bd01-4fc2-b3aa-362cc0fb2fad"
      },
      "source": [
        "kat_df.method.unique()"
      ],
      "execution_count": null,
      "outputs": [
        {
          "output_type": "execute_result",
          "data": {
            "text/plain": [
              "array(['Radial Velocity', 'Imaging', 'Eclipse Timing Variations',\n",
              "       'Transit', 'Astrometry', 'Transit Timing Variations',\n",
              "       'Orbital Brightness Modulation', 'Microlensing', 'Pulsar Timing',\n",
              "       'Pulsation Timing Variations'], dtype=object)"
            ]
          },
          "metadata": {
            "tags": []
          },
          "execution_count": 8
        }
      ]
    },
    {
      "cell_type": "code",
      "metadata": {
        "colab": {
          "base_uri": "https://localhost:8080/"
        },
        "id": "mEqMJ2J8WHmw",
        "outputId": "7ecf6bc0-b6d8-4404-bfe2-a86fb6a84581"
      },
      "source": [
        "#method isimli kategorik değişkenin sınıfları ve sayısı\r\n",
        "kat_df[\"method\"].value_counts().count()"
      ],
      "execution_count": null,
      "outputs": [
        {
          "output_type": "execute_result",
          "data": {
            "text/plain": [
              "10"
            ]
          },
          "metadata": {
            "tags": []
          },
          "execution_count": 10
        }
      ]
    },
    {
      "cell_type": "markdown",
      "metadata": {
        "id": "oIlv_56eW6pO"
      },
      "source": [
        "Kategorik değişkenin sınıflarının frekansına ulaşmak"
      ]
    },
    {
      "cell_type": "code",
      "metadata": {
        "colab": {
          "base_uri": "https://localhost:8080/"
        },
        "id": "3OupT7u5WmTY",
        "outputId": "a08a5f5e-2b8a-4723-c03e-eccf20458f71"
      },
      "source": [
        "kat_df[\"method\"].value_counts()"
      ],
      "execution_count": null,
      "outputs": [
        {
          "output_type": "execute_result",
          "data": {
            "text/plain": [
              "Radial Velocity                  553\n",
              "Transit                          397\n",
              "Imaging                           38\n",
              "Microlensing                      23\n",
              "Eclipse Timing Variations          9\n",
              "Pulsar Timing                      5\n",
              "Transit Timing Variations          4\n",
              "Orbital Brightness Modulation      3\n",
              "Astrometry                         2\n",
              "Pulsation Timing Variations        1\n",
              "Name: method, dtype: int64"
            ]
          },
          "metadata": {
            "tags": []
          },
          "execution_count": 11
        }
      ]
    },
    {
      "cell_type": "code",
      "metadata": {
        "colab": {
          "base_uri": "https://localhost:8080/",
          "height": 265
        },
        "id": "RrCYIOaxXJdd",
        "outputId": "648c425e-0258-4626-c938-a90837bfce11"
      },
      "source": [
        "df[\"method\"].value_counts().plot.barh();"
      ],
      "execution_count": null,
      "outputs": [
        {
          "output_type": "display_data",
          "data": {
            "image/png": "[encoded data removed]",
            "text/plain": [
              "<Figure size 432x288 with 1 Axes>"
            ]
          },
          "metadata": {
            "tags": [],
            "needs_background": "light"
          }
        }
      ]
    },
    {
      "cell_type": "code",
      "metadata": {
        "colab": {
          "base_uri": "https://localhost:8080/",
          "height": 359
        },
        "id": "OfZbjuyFXxN4",
        "outputId": "ed667b3b-4f1c-4140-e072-4c77f9b858d5"
      },
      "source": [
        "df_num=df.select_dtypes(include=[\"float64\",\"int64\"]);\r\n",
        "df_num.head(10)\r\n"
      ],
      "execution_count": null,
      "outputs": [
        {
          "output_type": "execute_result",
          "data": {
            "text/html": [
              "<div>\n",
              "<style scoped>\n",
              "    .dataframe tbody tr th:only-of-type {\n",
              "        vertical-align: middle;\n",
              "    }\n",
              "\n",
              "    .dataframe tbody tr th {\n",
              "        vertical-align: top;\n",
              "    }\n",
              "\n",
              "    .dataframe thead th {\n",
              "        text-align: right;\n",
              "    }\n",
              "</style>\n",
              "<table border=\"1\" class=\"dataframe\">\n",
              "  <thead>\n",
              "    <tr style=\"text-align: right;\">\n",
              "      <th></th>\n",
              "      <th>number</th>\n",
              "      <th>orbital_period</th>\n",
              "      <th>mass</th>\n",
              "      <th>distance</th>\n",
              "      <th>year</th>\n",
              "    </tr>\n",
              "  </thead>\n",
              "  <tbody>\n",
              "    <tr>\n",
              "      <th>0</th>\n",
              "      <td>1</td>\n",
              "      <td>269.300</td>\n",
              "      <td>7.10</td>\n",
              "      <td>77.40</td>\n",
              "      <td>2006</td>\n",
              "    </tr>\n",
              "    <tr>\n",
              "      <th>1</th>\n",
              "      <td>1</td>\n",
              "      <td>874.774</td>\n",
              "      <td>2.21</td>\n",
              "      <td>56.95</td>\n",
              "      <td>2008</td>\n",
              "    </tr>\n",
              "    <tr>\n",
              "      <th>2</th>\n",
              "      <td>1</td>\n",
              "      <td>763.000</td>\n",
              "      <td>2.60</td>\n",
              "      <td>19.84</td>\n",
              "      <td>2011</td>\n",
              "    </tr>\n",
              "    <tr>\n",
              "      <th>3</th>\n",
              "      <td>1</td>\n",
              "      <td>326.030</td>\n",
              "      <td>19.40</td>\n",
              "      <td>110.62</td>\n",
              "      <td>2007</td>\n",
              "    </tr>\n",
              "    <tr>\n",
              "      <th>4</th>\n",
              "      <td>1</td>\n",
              "      <td>516.220</td>\n",
              "      <td>10.50</td>\n",
              "      <td>119.47</td>\n",
              "      <td>2009</td>\n",
              "    </tr>\n",
              "    <tr>\n",
              "      <th>5</th>\n",
              "      <td>1</td>\n",
              "      <td>185.840</td>\n",
              "      <td>4.80</td>\n",
              "      <td>76.39</td>\n",
              "      <td>2008</td>\n",
              "    </tr>\n",
              "    <tr>\n",
              "      <th>6</th>\n",
              "      <td>1</td>\n",
              "      <td>1773.400</td>\n",
              "      <td>4.64</td>\n",
              "      <td>18.15</td>\n",
              "      <td>2002</td>\n",
              "    </tr>\n",
              "    <tr>\n",
              "      <th>7</th>\n",
              "      <td>1</td>\n",
              "      <td>798.500</td>\n",
              "      <td>NaN</td>\n",
              "      <td>21.41</td>\n",
              "      <td>1996</td>\n",
              "    </tr>\n",
              "    <tr>\n",
              "      <th>8</th>\n",
              "      <td>1</td>\n",
              "      <td>993.300</td>\n",
              "      <td>10.30</td>\n",
              "      <td>73.10</td>\n",
              "      <td>2008</td>\n",
              "    </tr>\n",
              "    <tr>\n",
              "      <th>9</th>\n",
              "      <td>2</td>\n",
              "      <td>452.800</td>\n",
              "      <td>1.99</td>\n",
              "      <td>74.79</td>\n",
              "      <td>2010</td>\n",
              "    </tr>\n",
              "  </tbody>\n",
              "</table>\n",
              "</div>"
            ],
            "text/plain": [
              "   number  orbital_period   mass  distance  year\n",
              "0       1         269.300   7.10     77.40  2006\n",
              "1       1         874.774   2.21     56.95  2008\n",
              "2       1         763.000   2.60     19.84  2011\n",
              "3       1         326.030  19.40    110.62  2007\n",
              "4       1         516.220  10.50    119.47  2009\n",
              "5       1         185.840   4.80     76.39  2008\n",
              "6       1        1773.400   4.64     18.15  2002\n",
              "7       1         798.500    NaN     21.41  1996\n",
              "8       1         993.300  10.30     73.10  2008\n",
              "9       2         452.800   1.99     74.79  2010"
            ]
          },
          "metadata": {
            "tags": []
          },
          "execution_count": 20
        }
      ]
    },
    {
      "cell_type": "code",
      "metadata": {
        "colab": {
          "base_uri": "https://localhost:8080/",
          "height": 204
        },
        "id": "Y97sllAzY3FX",
        "outputId": "6fb284ae-bb7e-4c73-df88-061da286df9b"
      },
      "source": [
        "df_num.describe().T"
      ],
      "execution_count": null,
      "outputs": [
        {
          "output_type": "execute_result",
          "data": {
            "text/html": [
              "<div>\n",
              "<style scoped>\n",
              "    .dataframe tbody tr th:only-of-type {\n",
              "        vertical-align: middle;\n",
              "    }\n",
              "\n",
              "    .dataframe tbody tr th {\n",
              "        vertical-align: top;\n",
              "    }\n",
              "\n",
              "    .dataframe thead th {\n",
              "        text-align: right;\n",
              "    }\n",
              "</style>\n",
              "<table border=\"1\" class=\"dataframe\">\n",
              "  <thead>\n",
              "    <tr style=\"text-align: right;\">\n",
              "      <th></th>\n",
              "      <th>count</th>\n",
              "      <th>mean</th>\n",
              "      <th>std</th>\n",
              "      <th>min</th>\n",
              "      <th>25%</th>\n",
              "      <th>50%</th>\n",
              "      <th>75%</th>\n",
              "      <th>max</th>\n",
              "    </tr>\n",
              "  </thead>\n",
              "  <tbody>\n",
              "    <tr>\n",
              "      <th>number</th>\n",
              "      <td>1035.0</td>\n",
              "      <td>1.785507</td>\n",
              "      <td>1.240976</td>\n",
              "      <td>1.000000</td>\n",
              "      <td>1.00000</td>\n",
              "      <td>1.0000</td>\n",
              "      <td>2.000</td>\n",
              "      <td>7.0</td>\n",
              "    </tr>\n",
              "    <tr>\n",
              "      <th>orbital_period</th>\n",
              "      <td>992.0</td>\n",
              "      <td>2002.917596</td>\n",
              "      <td>26014.728304</td>\n",
              "      <td>0.090706</td>\n",
              "      <td>5.44254</td>\n",
              "      <td>39.9795</td>\n",
              "      <td>526.005</td>\n",
              "      <td>730000.0</td>\n",
              "    </tr>\n",
              "    <tr>\n",
              "      <th>mass</th>\n",
              "      <td>513.0</td>\n",
              "      <td>2.638161</td>\n",
              "      <td>3.818617</td>\n",
              "      <td>0.003600</td>\n",
              "      <td>0.22900</td>\n",
              "      <td>1.2600</td>\n",
              "      <td>3.040</td>\n",
              "      <td>25.0</td>\n",
              "    </tr>\n",
              "    <tr>\n",
              "      <th>distance</th>\n",
              "      <td>808.0</td>\n",
              "      <td>264.069282</td>\n",
              "      <td>733.116493</td>\n",
              "      <td>1.350000</td>\n",
              "      <td>32.56000</td>\n",
              "      <td>55.2500</td>\n",
              "      <td>178.500</td>\n",
              "      <td>8500.0</td>\n",
              "    </tr>\n",
              "    <tr>\n",
              "      <th>year</th>\n",
              "      <td>1035.0</td>\n",
              "      <td>2009.070531</td>\n",
              "      <td>3.972567</td>\n",
              "      <td>1989.000000</td>\n",
              "      <td>2007.00000</td>\n",
              "      <td>2010.0000</td>\n",
              "      <td>2012.000</td>\n",
              "      <td>2014.0</td>\n",
              "    </tr>\n",
              "  </tbody>\n",
              "</table>\n",
              "</div>"
            ],
            "text/plain": [
              "                 count         mean  ...       75%       max\n",
              "number          1035.0     1.785507  ...     2.000       7.0\n",
              "orbital_period   992.0  2002.917596  ...   526.005  730000.0\n",
              "mass             513.0     2.638161  ...     3.040      25.0\n",
              "distance         808.0   264.069282  ...   178.500    8500.0\n",
              "year            1035.0  2009.070531  ...  2012.000    2014.0\n",
              "\n",
              "[5 rows x 8 columns]"
            ]
          },
          "metadata": {
            "tags": []
          },
          "execution_count": 21
        }
      ]
    },
    {
      "cell_type": "code",
      "metadata": {
        "colab": {
          "base_uri": "https://localhost:8080/"
        },
        "id": "1jxQXmfhZd24",
        "outputId": "406d1b03-3df3-4bcb-fc16-e9f44dda502f"
      },
      "source": [
        "df_num[\"distance\"].describe()"
      ],
      "execution_count": null,
      "outputs": [
        {
          "output_type": "execute_result",
          "data": {
            "text/plain": [
              "count     808.000000\n",
              "mean      264.069282\n",
              "std       733.116493\n",
              "min         1.350000\n",
              "25%        32.560000\n",
              "50%        55.250000\n",
              "75%       178.500000\n",
              "max      8500.000000\n",
              "Name: distance, dtype: float64"
            ]
          },
          "metadata": {
            "tags": []
          },
          "execution_count": 22
        }
      ]
    },
    {
      "cell_type": "code",
      "metadata": {
        "id": "nPczn3VkZtih"
      },
      "source": [
        "?sns.distplot"
      ],
      "execution_count": 20,
      "outputs": []
    },
    {
      "cell_type": "code",
      "metadata": {
        "colab": {
          "base_uri": "https://localhost:8080/",
          "height": 333
        },
        "id": "Yhpm7dsfEmkd",
        "outputId": "8ad38fe4-6d27-43b2-897d-293077a212e5"
      },
      "source": [
        "sns.distplot(df.year, bins = 10, kde = True);"
      ],
      "execution_count": 28,
      "outputs": [
        {
          "output_type": "stream",
          "text": [
            "/usr/local/lib/python3.6/dist-packages/seaborn/distributions.py:2551: FutureWarning: `distplot` is a deprecated function and will be removed in a future version. Please adapt your code to use either `displot` (a figure-level function with similar flexibility) or `histplot` (an axes-level function for histograms).\n",
            "  warnings.warn(msg, FutureWarning)\n"
          ],
          "name": "stderr"
        },
        {
          "output_type": "display_data",
          "data": {
            "image/png": "[encoded data removed]",
            "text/plain": [
              "<Figure size 432x288 with 1 Axes>"
            ]
          },
          "metadata": {
            "tags": [],
            "needs_background": "light"
          }
        }
      ]
    },
    {
      "cell_type": "code",
      "metadata": {
        "id": "BZdXUcEJFYHz"
      },
      "source": [
        ""
      ],
      "execution_count": null,
      "outputs": []
    }
  ]
}